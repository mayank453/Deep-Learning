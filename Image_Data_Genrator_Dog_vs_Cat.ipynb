{
  "nbformat": 4,
  "nbformat_minor": 0,
  "metadata": {
    "colab": {
      "name": "Image_Data_Genrator_Dog vs Cat.ipynb",
      "provenance": [],
      "collapsed_sections": [],
      "authorship_tag": "ABX9TyNolK3WH2kw6/ggeOTcwWLH",
      "include_colab_link": true
    },
    "kernelspec": {
      "name": "python3",
      "display_name": "Python 3"
    },
    "language_info": {
      "name": "python"
    },
    "accelerator": "GPU",
    "widgets": {
      "application/vnd.jupyter.widget-state+json": {
        "be1cf561f524417cb3d99d5f4292ed39": {
          "model_module": "@jupyter-widgets/controls",
          "model_name": "HBoxModel",
          "state": {
            "_view_name": "HBoxView",
            "_dom_classes": [],
            "_model_name": "HBoxModel",
            "_view_module": "@jupyter-widgets/controls",
            "_model_module_version": "1.5.0",
            "_view_count": null,
            "_view_module_version": "1.5.0",
            "box_style": "",
            "layout": "IPY_MODEL_2cd91a8c3d3e470cbcfeb5c639ce5bb4",
            "_model_module": "@jupyter-widgets/controls",
            "children": [
              "IPY_MODEL_b376fd54a6ed4ac7a070983c31493298",
              "IPY_MODEL_319a3e23168947848351ef95fefc8fc9"
            ]
          }
        },
        "2cd91a8c3d3e470cbcfeb5c639ce5bb4": {
          "model_module": "@jupyter-widgets/base",
          "model_name": "LayoutModel",
          "state": {
            "_view_name": "LayoutView",
            "grid_template_rows": null,
            "right": null,
            "justify_content": null,
            "_view_module": "@jupyter-widgets/base",
            "overflow": null,
            "_model_module_version": "1.2.0",
            "_view_count": null,
            "flex_flow": null,
            "width": null,
            "min_width": null,
            "border": null,
            "align_items": null,
            "bottom": null,
            "_model_module": "@jupyter-widgets/base",
            "top": null,
            "grid_column": null,
            "overflow_y": null,
            "overflow_x": null,
            "grid_auto_flow": null,
            "grid_area": null,
            "grid_template_columns": null,
            "flex": null,
            "_model_name": "LayoutModel",
            "justify_items": null,
            "grid_row": null,
            "max_height": null,
            "align_content": null,
            "visibility": null,
            "align_self": null,
            "height": null,
            "min_height": null,
            "padding": null,
            "grid_auto_rows": null,
            "grid_gap": null,
            "max_width": null,
            "order": null,
            "_view_module_version": "1.2.0",
            "grid_template_areas": null,
            "object_position": null,
            "object_fit": null,
            "grid_auto_columns": null,
            "margin": null,
            "display": null,
            "left": null
          }
        },
        "b376fd54a6ed4ac7a070983c31493298": {
          "model_module": "@jupyter-widgets/controls",
          "model_name": "FloatProgressModel",
          "state": {
            "_view_name": "ProgressView",
            "style": "IPY_MODEL_9cff4428f6f745f7b7951a41511811f2",
            "_dom_classes": [],
            "description": "100%",
            "_model_name": "FloatProgressModel",
            "bar_style": "success",
            "max": 25000,
            "_view_module": "@jupyter-widgets/controls",
            "_model_module_version": "1.5.0",
            "value": 25000,
            "_view_count": null,
            "_view_module_version": "1.5.0",
            "orientation": "horizontal",
            "min": 0,
            "description_tooltip": null,
            "_model_module": "@jupyter-widgets/controls",
            "layout": "IPY_MODEL_fc8002c6e94b4795a95594f38987a63c"
          }
        },
        "319a3e23168947848351ef95fefc8fc9": {
          "model_module": "@jupyter-widgets/controls",
          "model_name": "HTMLModel",
          "state": {
            "_view_name": "HTMLView",
            "style": "IPY_MODEL_82e0712613e14b6a9f9d76dd46bb63e8",
            "_dom_classes": [],
            "description": "",
            "_model_name": "HTMLModel",
            "placeholder": "​",
            "_view_module": "@jupyter-widgets/controls",
            "_model_module_version": "1.5.0",
            "value": " 25000/25000 [03:59&lt;00:00, 104.22it/s]",
            "_view_count": null,
            "_view_module_version": "1.5.0",
            "description_tooltip": null,
            "_model_module": "@jupyter-widgets/controls",
            "layout": "IPY_MODEL_ea2700aa654f4279a0dd4c4a46e45b10"
          }
        },
        "9cff4428f6f745f7b7951a41511811f2": {
          "model_module": "@jupyter-widgets/controls",
          "model_name": "ProgressStyleModel",
          "state": {
            "_view_name": "StyleView",
            "_model_name": "ProgressStyleModel",
            "description_width": "initial",
            "_view_module": "@jupyter-widgets/base",
            "_model_module_version": "1.5.0",
            "_view_count": null,
            "_view_module_version": "1.2.0",
            "bar_color": null,
            "_model_module": "@jupyter-widgets/controls"
          }
        },
        "fc8002c6e94b4795a95594f38987a63c": {
          "model_module": "@jupyter-widgets/base",
          "model_name": "LayoutModel",
          "state": {
            "_view_name": "LayoutView",
            "grid_template_rows": null,
            "right": null,
            "justify_content": null,
            "_view_module": "@jupyter-widgets/base",
            "overflow": null,
            "_model_module_version": "1.2.0",
            "_view_count": null,
            "flex_flow": null,
            "width": null,
            "min_width": null,
            "border": null,
            "align_items": null,
            "bottom": null,
            "_model_module": "@jupyter-widgets/base",
            "top": null,
            "grid_column": null,
            "overflow_y": null,
            "overflow_x": null,
            "grid_auto_flow": null,
            "grid_area": null,
            "grid_template_columns": null,
            "flex": null,
            "_model_name": "LayoutModel",
            "justify_items": null,
            "grid_row": null,
            "max_height": null,
            "align_content": null,
            "visibility": null,
            "align_self": null,
            "height": null,
            "min_height": null,
            "padding": null,
            "grid_auto_rows": null,
            "grid_gap": null,
            "max_width": null,
            "order": null,
            "_view_module_version": "1.2.0",
            "grid_template_areas": null,
            "object_position": null,
            "object_fit": null,
            "grid_auto_columns": null,
            "margin": null,
            "display": null,
            "left": null
          }
        },
        "82e0712613e14b6a9f9d76dd46bb63e8": {
          "model_module": "@jupyter-widgets/controls",
          "model_name": "DescriptionStyleModel",
          "state": {
            "_view_name": "StyleView",
            "_model_name": "DescriptionStyleModel",
            "description_width": "",
            "_view_module": "@jupyter-widgets/base",
            "_model_module_version": "1.5.0",
            "_view_count": null,
            "_view_module_version": "1.2.0",
            "_model_module": "@jupyter-widgets/controls"
          }
        },
        "ea2700aa654f4279a0dd4c4a46e45b10": {
          "model_module": "@jupyter-widgets/base",
          "model_name": "LayoutModel",
          "state": {
            "_view_name": "LayoutView",
            "grid_template_rows": null,
            "right": null,
            "justify_content": null,
            "_view_module": "@jupyter-widgets/base",
            "overflow": null,
            "_model_module_version": "1.2.0",
            "_view_count": null,
            "flex_flow": null,
            "width": null,
            "min_width": null,
            "border": null,
            "align_items": null,
            "bottom": null,
            "_model_module": "@jupyter-widgets/base",
            "top": null,
            "grid_column": null,
            "overflow_y": null,
            "overflow_x": null,
            "grid_auto_flow": null,
            "grid_area": null,
            "grid_template_columns": null,
            "flex": null,
            "_model_name": "LayoutModel",
            "justify_items": null,
            "grid_row": null,
            "max_height": null,
            "align_content": null,
            "visibility": null,
            "align_self": null,
            "height": null,
            "min_height": null,
            "padding": null,
            "grid_auto_rows": null,
            "grid_gap": null,
            "max_width": null,
            "order": null,
            "_view_module_version": "1.2.0",
            "grid_template_areas": null,
            "object_position": null,
            "object_fit": null,
            "grid_auto_columns": null,
            "margin": null,
            "display": null,
            "left": null
          }
        }
      }
    }
  },
  "cells": [
    {
      "cell_type": "markdown",
      "metadata": {
        "id": "view-in-github",
        "colab_type": "text"
      },
      "source": [
        "<a href=\"https://colab.research.google.com/github/mayank453/Deep-Learning/blob/main/Image_Data_Genrator_Dog_vs_Cat.ipynb\" target=\"_parent\"><img src=\"https://colab.research.google.com/assets/colab-badge.svg\" alt=\"Open In Colab\"/></a>"
      ]
    },
    {
      "cell_type": "code",
      "metadata": {
        "id": "ygb1jBU_l3zk"
      },
      "source": [
        "import os \n",
        "os.environ['KAGGLE_CONFIG_DIR']= '/content'"
      ],
      "execution_count": 2,
      "outputs": []
    },
    {
      "cell_type": "code",
      "metadata": {
        "colab": {
          "base_uri": "https://localhost:8080/"
        },
        "id": "7MebcsaDmF9R",
        "outputId": "0a1b7c99-ed5c-4b36-e42c-d923dce118d0"
      },
      "source": [
        "!kaggle competitions download -c dogs-vs-cats"
      ],
      "execution_count": 3,
      "outputs": [
        {
          "output_type": "stream",
          "text": [
            "Warning: Your Kaggle API key is readable by other users on this system! To fix this, you can run 'chmod 600 /content/kaggle.json'\n",
            "Warning: Looks like you're using an outdated API Version, please consider updating (server 1.5.12 / client 1.5.4)\n",
            "Downloading train.zip to /content\n",
            " 98% 531M/543M [00:02<00:00, 228MB/s]\n",
            "100% 543M/543M [00:02<00:00, 227MB/s]\n",
            "Downloading sampleSubmission.csv to /content\n",
            "  0% 0.00/86.8k [00:00<?, ?B/s]\n",
            "100% 86.8k/86.8k [00:00<00:00, 90.5MB/s]\n",
            "Downloading test1.zip to /content\n",
            " 93% 253M/271M [00:02<00:00, 121MB/s] \n",
            "100% 271M/271M [00:02<00:00, 112MB/s]\n"
          ],
          "name": "stdout"
        }
      ]
    },
    {
      "cell_type": "code",
      "metadata": {
        "colab": {
          "base_uri": "https://localhost:8080/"
        },
        "id": "Pps9Syh9nivi",
        "outputId": "acd95fbe-215d-4ac5-a58e-4e69b1771527"
      },
      "source": [
        "!unzip -q train.zip"
      ],
      "execution_count": 5,
      "outputs": [
        {
          "output_type": "stream",
          "text": [
            "replace train/cat.0.jpg? [y]es, [n]o, [A]ll, [N]one, [r]ename: "
          ],
          "name": "stdout"
        }
      ]
    },
    {
      "cell_type": "code",
      "metadata": {
        "id": "4ItYOsXmn_Z-"
      },
      "source": [
        "# Earlier - Loaded the data in Ram and send the images in batches \n",
        "# Image Data Genrator - The send is send to DL Model in batches rather than hole.\n",
        "# Read the image only when required (by DL Model)\n",
        "# Image Data Genrator requires you to set data into particular format:\n",
        "# Train_data\n",
        "#   cat_folder\n",
        "#   --- Cat_image_1 and so on.\n",
        "#   Dog_folder\n",
        "#   ---  Dog_image_1 and so on\n",
        "\n"
      ],
      "execution_count": 6,
      "outputs": []
    },
    {
      "cell_type": "code",
      "metadata": {
        "id": "Qzbrb01zpOyU"
      },
      "source": [
        "!mkdir train_folder"
      ],
      "execution_count": 11,
      "outputs": []
    },
    {
      "cell_type": "code",
      "metadata": {
        "id": "ajSAKVb2pTeC"
      },
      "source": [
        "! mkdir train_folder/cat\n",
        "! mkdir train_folder/dog"
      ],
      "execution_count": 12,
      "outputs": []
    },
    {
      "cell_type": "code",
      "metadata": {
        "colab": {
          "base_uri": "https://localhost:8080/",
          "height": 66,
          "referenced_widgets": [
            "be1cf561f524417cb3d99d5f4292ed39",
            "2cd91a8c3d3e470cbcfeb5c639ce5bb4",
            "b376fd54a6ed4ac7a070983c31493298",
            "319a3e23168947848351ef95fefc8fc9",
            "9cff4428f6f745f7b7951a41511811f2",
            "fc8002c6e94b4795a95594f38987a63c",
            "82e0712613e14b6a9f9d76dd46bb63e8",
            "ea2700aa654f4279a0dd4c4a46e45b10"
          ]
        },
        "id": "wlo3lr5WuFDF",
        "outputId": "949c5b6a-f5cc-4603-9e87-d977f7574fa1"
      },
      "source": [
        "import shutil\n",
        "from tqdm import notebook\n",
        "for img_name in notebook.tqdm (os.listdir(\"train\")):\n",
        "  if \"cat\" in img_name.lower():\n",
        "    shutil.copy(\"train/\" + img_name, \"train_folder/cat/\" + img_name)\n",
        "  else:\n",
        "    shutil.copy(\"train/\" + img_name, \"train_folder/dog/\" + img_name)\n",
        " "
      ],
      "execution_count": 13,
      "outputs": [
        {
          "output_type": "display_data",
          "data": {
            "application/vnd.jupyter.widget-view+json": {
              "model_id": "be1cf561f524417cb3d99d5f4292ed39",
              "version_minor": 0,
              "version_major": 2
            },
            "text/plain": [
              "HBox(children=(FloatProgress(value=0.0, max=25000.0), HTML(value='')))"
            ]
          },
          "metadata": {
            "tags": []
          }
        },
        {
          "output_type": "stream",
          "text": [
            "\n"
          ],
          "name": "stdout"
        }
      ]
    },
    {
      "cell_type": "code",
      "metadata": {
        "id": "aw_JFM7PwOzH"
      },
      "source": [
        "%tensorflow_version 2.x\n",
        "import tensorflow as tf\n"
      ],
      "execution_count": 16,
      "outputs": []
    },
    {
      "cell_type": "code",
      "metadata": {
        "id": "kHMOjh04xVNY"
      },
      "source": [
        "from tensorflow.keras.preprocessing.image import ImageDataGenerator"
      ],
      "execution_count": 17,
      "outputs": []
    },
    {
      "cell_type": "code",
      "metadata": {
        "colab": {
          "base_uri": "https://localhost:8080/"
        },
        "id": "g-qiVD58xmum",
        "outputId": "9b765d6b-6a21-4aa0-ff54-1be01a9af461"
      },
      "source": [
        "idg= ImageDataGenerator(validation_split=0.2,rescale=1/255.0)\n",
        "train_genrator= idg.flow_from_directory(\"train_folder\",batch_size=32, subset= \"training\",target_size=(150,150)) # genrate two folder from parent folder(cat,dog)\n",
        "test_genrator= idg.flow_from_directory(\"train_folder\",batch_size=32, subset= \"validation\",target_size=(150,150)) # for testing the data "
      ],
      "execution_count": 22,
      "outputs": [
        {
          "output_type": "stream",
          "text": [
            "Found 20000 images belonging to 2 classes.\n",
            "Found 5000 images belonging to 2 classes.\n"
          ],
          "name": "stdout"
        }
      ]
    },
    {
      "cell_type": "code",
      "metadata": {
        "id": "M-bPXnjYx_7T"
      },
      "source": [
        "# import libray for model building \n",
        "from tensorflow.keras.models import Sequential\n",
        "from tensorflow.keras.layers import Flatten, Dense, Conv2D,MaxPooling2D\n",
        "from tensorflow.keras.activations import relu, softmax\n",
        "from tensorflow.keras.optimizers import SGD\n",
        "from tensorflow.keras.losses import categorical_crossentropy"
      ],
      "execution_count": 24,
      "outputs": []
    },
    {
      "cell_type": "code",
      "metadata": {
        "colab": {
          "base_uri": "https://localhost:8080/"
        },
        "id": "6rSzRWur6tnL",
        "outputId": "cfc2dc31-1732-45ca-abc7-fe8a40d86538"
      },
      "source": [
        "model= Sequential()\n",
        "model.add(Conv2D(32,kernel_size=(3,3),strides=(1,1),input_shape=(150,150,3),activation=relu))\n",
        "model.add(MaxPooling2D(pool_size=(2,2),strides=(2,2),))\n",
        "model.add(Conv2D(64,kernel_size=(3,3),strides=(1,1),activation=relu))\n",
        "model.add(MaxPooling2D(pool_size=(2,2),strides=(2,2),))\n",
        "model.add(Flatten())\n",
        "model.add(Dense(128,activation=relu))\n",
        "model.add(Dense(2,activation=softmax))\n",
        "model.summary()"
      ],
      "execution_count": 27,
      "outputs": [
        {
          "output_type": "stream",
          "text": [
            "Model: \"sequential_1\"\n",
            "_________________________________________________________________\n",
            "Layer (type)                 Output Shape              Param #   \n",
            "=================================================================\n",
            "conv2d_2 (Conv2D)            (None, 148, 148, 32)      896       \n",
            "_________________________________________________________________\n",
            "max_pooling2d_2 (MaxPooling2 (None, 74, 74, 32)        0         \n",
            "_________________________________________________________________\n",
            "conv2d_3 (Conv2D)            (None, 72, 72, 64)        18496     \n",
            "_________________________________________________________________\n",
            "max_pooling2d_3 (MaxPooling2 (None, 36, 36, 64)        0         \n",
            "_________________________________________________________________\n",
            "flatten_1 (Flatten)          (None, 82944)             0         \n",
            "_________________________________________________________________\n",
            "dense_2 (Dense)              (None, 128)               10616960  \n",
            "_________________________________________________________________\n",
            "dense_3 (Dense)              (None, 2)                 258       \n",
            "=================================================================\n",
            "Total params: 10,636,610\n",
            "Trainable params: 10,636,610\n",
            "Non-trainable params: 0\n",
            "_________________________________________________________________\n"
          ],
          "name": "stdout"
        }
      ]
    },
    {
      "cell_type": "code",
      "metadata": {
        "id": "rudSCWEEEhl_"
      },
      "source": [
        "model.compile(optimizer=SGD(),loss= categorical_crossentropy,metrics=['acc'])"
      ],
      "execution_count": 29,
      "outputs": []
    },
    {
      "cell_type": "code",
      "metadata": {
        "colab": {
          "base_uri": "https://localhost:8080/"
        },
        "id": "-Ad0WXWSGmo-",
        "outputId": "0f543cab-a01d-470e-8a46-349294935dd0"
      },
      "source": [
        "model.fit_generator(train_genrator,epochs=10,validation_data=test_genrator)"
      ],
      "execution_count": 30,
      "outputs": [
        {
          "output_type": "stream",
          "text": [
            "/usr/local/lib/python3.7/dist-packages/tensorflow/python/keras/engine/training.py:1940: UserWarning: `Model.fit_generator` is deprecated and will be removed in a future version. Please use `Model.fit`, which supports generators.\n",
            "  warnings.warn('`Model.fit_generator` is deprecated and '\n"
          ],
          "name": "stderr"
        },
        {
          "output_type": "stream",
          "text": [
            "Epoch 1/10\n",
            "625/625 [==============================] - 101s 111ms/step - loss: 0.6649 - acc: 0.5892 - val_loss: 0.6384 - val_acc: 0.6238\n",
            "Epoch 2/10\n",
            "625/625 [==============================] - 69s 110ms/step - loss: 0.6251 - acc: 0.6385 - val_loss: 0.6135 - val_acc: 0.6552\n",
            "Epoch 3/10\n",
            "625/625 [==============================] - 68s 109ms/step - loss: 0.5884 - acc: 0.6822 - val_loss: 0.5633 - val_acc: 0.7092\n",
            "Epoch 4/10\n",
            "625/625 [==============================] - 67s 108ms/step - loss: 0.5520 - acc: 0.7159 - val_loss: 0.5819 - val_acc: 0.6818\n",
            "Epoch 5/10\n",
            "625/625 [==============================] - 68s 109ms/step - loss: 0.5191 - acc: 0.7453 - val_loss: 0.5147 - val_acc: 0.7534\n",
            "Epoch 6/10\n",
            "625/625 [==============================] - 67s 107ms/step - loss: 0.4836 - acc: 0.7698 - val_loss: 0.4995 - val_acc: 0.7608\n",
            "Epoch 7/10\n",
            "625/625 [==============================] - 67s 108ms/step - loss: 0.4483 - acc: 0.7915 - val_loss: 0.5440 - val_acc: 0.7252\n",
            "Epoch 8/10\n",
            "625/625 [==============================] - 67s 108ms/step - loss: 0.4149 - acc: 0.8094 - val_loss: 0.4960 - val_acc: 0.7598\n",
            "Epoch 9/10\n",
            "625/625 [==============================] - 67s 108ms/step - loss: 0.3819 - acc: 0.8309 - val_loss: 0.5085 - val_acc: 0.7636\n",
            "Epoch 10/10\n",
            "625/625 [==============================] - 67s 107ms/step - loss: 0.3453 - acc: 0.8488 - val_loss: 0.4723 - val_acc: 0.7836\n"
          ],
          "name": "stdout"
        },
        {
          "output_type": "execute_result",
          "data": {
            "text/plain": [
              "<tensorflow.python.keras.callbacks.History at 0x7ff62f081bd0>"
            ]
          },
          "metadata": {
            "tags": []
          },
          "execution_count": 30
        }
      ]
    },
    {
      "cell_type": "code",
      "metadata": {
        "colab": {
          "base_uri": "https://localhost:8080/"
        },
        "id": "854yOUphHF8b",
        "outputId": "603a6408-75e8-4ae6-e1ae-bef185c05dd4"
      },
      "source": [
        "!wget https://image.cnbcfm.com/api/v1/image/105992231-1561667465295gettyimages-521697453.jpeg?v=1561667497&w=1600&h=900"
      ],
      "execution_count": 62,
      "outputs": [
        {
          "output_type": "stream",
          "text": [
            "--2021-06-19 12:38:41--  https://image.cnbcfm.com/api/v1/image/105992231-1561667465295gettyimages-521697453.jpeg?v=1561667497\n",
            "Resolving image.cnbcfm.com (image.cnbcfm.com)... 104.119.5.149\n",
            "Connecting to image.cnbcfm.com (image.cnbcfm.com)|104.119.5.149|:443... connected.\n",
            "HTTP request sent, awaiting response... 200 OK\n",
            "Length: 218046 (213K) [image/jpeg]\n",
            "Saving to: ‘105992231-1561667465295gettyimages-521697453.jpeg?v=1561667497’\n",
            "\n",
            "\r          105992231   0%[                    ]       0  --.-KB/s               \r105992231-156166746 100%[===================>] 212.94K  --.-KB/s    in 0.007s  \n",
            "\n",
            "2021-06-19 12:38:41 (28.6 MB/s) - ‘105992231-1561667465295gettyimages-521697453.jpeg?v=1561667497’ saved [218046/218046]\n",
            "\n"
          ],
          "name": "stdout"
        }
      ]
    },
    {
      "cell_type": "code",
      "metadata": {
        "id": "ZBEjH4PMPNvE"
      },
      "source": [
        "import cv2\n",
        "image= cv2.imread(\"dog.jpeg\")"
      ],
      "execution_count": 63,
      "outputs": []
    },
    {
      "cell_type": "code",
      "metadata": {
        "colab": {
          "base_uri": "https://localhost:8080/"
        },
        "id": "f2ZaoFTDHWun",
        "outputId": "a23af6a5-8fad-4b02-b655-b8c1e1f51213"
      },
      "source": [
        "image.shape"
      ],
      "execution_count": 64,
      "outputs": [
        {
          "output_type": "execute_result",
          "data": {
            "text/plain": [
              "(2149, 3224, 3)"
            ]
          },
          "metadata": {
            "tags": []
          },
          "execution_count": 64
        }
      ]
    },
    {
      "cell_type": "code",
      "metadata": {
        "colab": {
          "base_uri": "https://localhost:8080/"
        },
        "id": "yc_Rva2RMxGj",
        "outputId": "fa8e9ac1-a133-4ca3-fb79-d3a2ba583709"
      },
      "source": [
        "# resizing and adding the dimnesionality \n",
        "import numpy as np\n",
        "image= cv2.resize(image,(150,150))\n",
        "image= image/255.0\n",
        "image= np.expand_dims(image,axis=0)\n",
        "image.shape"
      ],
      "execution_count": 65,
      "outputs": [
        {
          "output_type": "execute_result",
          "data": {
            "text/plain": [
              "(1, 150, 150, 3)"
            ]
          },
          "metadata": {
            "tags": []
          },
          "execution_count": 65
        }
      ]
    },
    {
      "cell_type": "code",
      "metadata": {
        "colab": {
          "base_uri": "https://localhost:8080/"
        },
        "id": "ODj3CvtmTccJ",
        "outputId": "2e7c085d-4732-4016-adc7-e75dd97e99e3"
      },
      "source": [
        "map_dict= {v:k for k,v in train_genrator.class_indices.items()}\n",
        "map_dict"
      ],
      "execution_count": 68,
      "outputs": [
        {
          "output_type": "execute_result",
          "data": {
            "text/plain": [
              "{0: 'cat', 1: 'dog'}"
            ]
          },
          "metadata": {
            "tags": []
          },
          "execution_count": 68
        }
      ]
    },
    {
      "cell_type": "code",
      "metadata": {
        "colab": {
          "base_uri": "https://localhost:8080/",
          "height": 89
        },
        "id": "VREYWn8tM_Cf",
        "outputId": "61ef6ad6-aa39-4026-e47e-a4b5569bbc65"
      },
      "source": [
        "map_dict.get(model.predict_classes(image)[0])"
      ],
      "execution_count": 69,
      "outputs": [
        {
          "output_type": "stream",
          "text": [
            "/usr/local/lib/python3.7/dist-packages/tensorflow/python/keras/engine/sequential.py:455: UserWarning: `model.predict_classes()` is deprecated and will be removed after 2021-01-01. Please use instead:* `np.argmax(model.predict(x), axis=-1)`,   if your model does multi-class classification   (e.g. if it uses a `softmax` last-layer activation).* `(model.predict(x) > 0.5).astype(\"int32\")`,   if your model does binary classification   (e.g. if it uses a `sigmoid` last-layer activation).\n",
            "  warnings.warn('`model.predict_classes()` is deprecated and '\n"
          ],
          "name": "stderr"
        },
        {
          "output_type": "execute_result",
          "data": {
            "application/vnd.google.colaboratory.intrinsic+json": {
              "type": "string"
            },
            "text/plain": [
              "'dog'"
            ]
          },
          "metadata": {
            "tags": []
          },
          "execution_count": 69
        }
      ]
    },
    {
      "cell_type": "code",
      "metadata": {
        "colab": {
          "base_uri": "https://localhost:8080/"
        },
        "id": "6rr-DKZjStYp",
        "outputId": "5e959d20-757d-4da0-a8dc-1e3799e8acdd"
      },
      "source": [
        ""
      ],
      "execution_count": 67,
      "outputs": [
        {
          "output_type": "execute_result",
          "data": {
            "text/plain": [
              "{'cat': 0, 'dog': 1}"
            ]
          },
          "metadata": {
            "tags": []
          },
          "execution_count": 67
        }
      ]
    },
    {
      "cell_type": "code",
      "metadata": {
        "id": "Trc9PQQoTWbx"
      },
      "source": [
        ""
      ],
      "execution_count": null,
      "outputs": []
    }
  ]
}